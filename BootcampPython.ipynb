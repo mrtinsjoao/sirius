{
  "nbformat": 4,
  "nbformat_minor": 0,
  "metadata": {
    "colab": {
      "provenance": [],
      "authorship_tag": "ABX9TyNi5qN+1sifVOMYP+dKFZwb",
      "include_colab_link": true
    },
    "kernelspec": {
      "name": "python3",
      "display_name": "Python 3"
    },
    "language_info": {
      "name": "python"
    }
  },
  "cells": [
    {
      "cell_type": "markdown",
      "metadata": {
        "id": "view-in-github",
        "colab_type": "text"
      },
      "source": [
        "<a href=\"https://colab.research.google.com/github/mrtinsjoao/sirius/blob/main/BootcampPython.ipynb\" target=\"_parent\"><img src=\"https://colab.research.google.com/assets/colab-badge.svg\" alt=\"Open In Colab\"/></a>"
      ]
    },
    {
      "cell_type": "code",
      "execution_count": null,
      "metadata": {
        "id": "yWaKxvjNKodp"
      },
      "outputs": [],
      "source": []
    },
    {
      "cell_type": "markdown",
      "source": [
        "**Aula 00**"
      ],
      "metadata": {
        "id": "IHCjTzRUK0NO"
      }
    },
    {
      "cell_type": "code",
      "source": [
        "!python --version\n"
      ],
      "metadata": {
        "colab": {
          "base_uri": "https://localhost:8080/"
        },
        "id": "lWGqqPA3K9C5",
        "outputId": "24793456-2b3c-4717-a019-3ddc4d0469ac"
      },
      "execution_count": 2,
      "outputs": [
        {
          "output_type": "stream",
          "name": "stdout",
          "text": [
            "Python 3.10.12\n"
          ]
        }
      ]
    },
    {
      "cell_type": "code",
      "source": [
        "print('Olá João')"
      ],
      "metadata": {
        "colab": {
          "base_uri": "https://localhost:8080/"
        },
        "id": "CBiC_I0BLKdh",
        "outputId": "63662c1c-b273-45f2-8271-8efe91c502f4"
      },
      "execution_count": 10,
      "outputs": [
        {
          "output_type": "stream",
          "name": "stdout",
          "text": [
            "Olá João\n"
          ]
        }
      ]
    },
    {
      "cell_type": "markdown",
      "source": [
        "**Aula 01**"
      ],
      "metadata": {
        "id": "xY5BZOVzMZvs"
      }
    },
    {
      "cell_type": "code",
      "source": [
        "nota = 12"
      ],
      "metadata": {
        "id": "3SyG3YGmL5sX"
      },
      "execution_count": 8,
      "outputs": []
    },
    {
      "cell_type": "code",
      "source": [
        "nota"
      ],
      "metadata": {
        "colab": {
          "base_uri": "https://localhost:8080/"
        },
        "id": "hdkS26pDL-G6",
        "outputId": "9786a990-b04e-4122-f10a-329e9366894e"
      },
      "execution_count": 9,
      "outputs": [
        {
          "output_type": "execute_result",
          "data": {
            "text/plain": [
              "12"
            ]
          },
          "metadata": {},
          "execution_count": 9
        }
      ]
    },
    {
      "cell_type": "code",
      "source": [
        "nota 1 = 1"
      ],
      "metadata": {
        "colab": {
          "base_uri": "https://localhost:8080/",
          "height": 140
        },
        "id": "ebnITNquMTeV",
        "outputId": "cbc7dac0-54a7-45b7-e0c2-cdc95ac27388"
      },
      "execution_count": 11,
      "outputs": [
        {
          "output_type": "error",
          "ename": "SyntaxError",
          "evalue": "invalid syntax (<ipython-input-11-31564c775b2c>, line 1)",
          "traceback": [
            "\u001b[0;36m  File \u001b[0;32m\"<ipython-input-11-31564c775b2c>\"\u001b[0;36m, line \u001b[0;32m1\u001b[0m\n\u001b[0;31m    nota 1 = 1\u001b[0m\n\u001b[0m         ^\u001b[0m\n\u001b[0;31mSyntaxError\u001b[0m\u001b[0;31m:\u001b[0m invalid syntax\n"
          ]
        }
      ]
    },
    {
      "cell_type": "code",
      "source": [
        "note = \"teste\""
      ],
      "metadata": {
        "id": "G9YGvPlcMiYd"
      },
      "execution_count": 12,
      "outputs": []
    },
    {
      "cell_type": "code",
      "source": [
        "note"
      ],
      "metadata": {
        "colab": {
          "base_uri": "https://localhost:8080/",
          "height": 35
        },
        "id": "PNoHIB9mMkX6",
        "outputId": "05885119-8584-4d10-a098-95901f6142c0"
      },
      "execution_count": 14,
      "outputs": [
        {
          "output_type": "execute_result",
          "data": {
            "text/plain": [
              "'teste'"
            ],
            "application/vnd.google.colaboratory.intrinsic+json": {
              "type": "string"
            }
          },
          "metadata": {},
          "execution_count": 14
        }
      ]
    },
    {
      "cell_type": "code",
      "source": [
        "type(note)"
      ],
      "metadata": {
        "colab": {
          "base_uri": "https://localhost:8080/"
        },
        "id": "NL_D2vgZMpy4",
        "outputId": "4fe308a5-b2c4-48ac-be72-2e9ada513239"
      },
      "execution_count": 17,
      "outputs": [
        {
          "output_type": "execute_result",
          "data": {
            "text/plain": [
              "str"
            ]
          },
          "metadata": {},
          "execution_count": 17
        }
      ]
    },
    {
      "cell_type": "code",
      "source": [
        "altura = 1.85"
      ],
      "metadata": {
        "id": "T6sBdx2GM_54"
      },
      "execution_count": 18,
      "outputs": []
    },
    {
      "cell_type": "code",
      "source": [
        "altura"
      ],
      "metadata": {
        "colab": {
          "base_uri": "https://localhost:8080/"
        },
        "id": "de5luguyNDln",
        "outputId": "3e1cc2b3-bbf5-496f-feea-3194dc5beafb"
      },
      "execution_count": 19,
      "outputs": [
        {
          "output_type": "execute_result",
          "data": {
            "text/plain": [
              "1.85"
            ]
          },
          "metadata": {},
          "execution_count": 19
        }
      ]
    },
    {
      "cell_type": "code",
      "source": [
        "type(altura)"
      ],
      "metadata": {
        "colab": {
          "base_uri": "https://localhost:8080/"
        },
        "id": "R18JmjSZNE18",
        "outputId": "4a6d0e6a-30a1-4567-c590-ce53c051a86e"
      },
      "execution_count": 20,
      "outputs": [
        {
          "output_type": "execute_result",
          "data": {
            "text/plain": [
              "float"
            ]
          },
          "metadata": {},
          "execution_count": 20
        }
      ]
    },
    {
      "cell_type": "code",
      "source": [
        "ver = True"
      ],
      "metadata": {
        "id": "lPqqMj2xNI35"
      },
      "execution_count": 21,
      "outputs": []
    },
    {
      "cell_type": "code",
      "source": [
        "type(ver)"
      ],
      "metadata": {
        "colab": {
          "base_uri": "https://localhost:8080/"
        },
        "id": "Fbn95VgiNK3w",
        "outputId": "45227445-9059-4f5f-cb43-6ed7f0ccff05"
      },
      "execution_count": 22,
      "outputs": [
        {
          "output_type": "execute_result",
          "data": {
            "text/plain": [
              "bool"
            ]
          },
          "metadata": {},
          "execution_count": 22
        }
      ]
    },
    {
      "cell_type": "code",
      "source": [
        "ver"
      ],
      "metadata": {
        "colab": {
          "base_uri": "https://localhost:8080/"
        },
        "id": "yfGRvB6bNMxh",
        "outputId": "528e477b-90fc-4bbd-c38a-76ca14edba33"
      },
      "execution_count": 23,
      "outputs": [
        {
          "output_type": "execute_result",
          "data": {
            "text/plain": [
              "True"
            ]
          },
          "metadata": {},
          "execution_count": 23
        }
      ]
    },
    {
      "cell_type": "markdown",
      "source": [
        "**Aula 02**"
      ],
      "metadata": {
        "id": "TSzdVErSSBd6"
      }
    },
    {
      "cell_type": "code",
      "source": [
        "mensagem = 'Bem vindo a Sirius'"
      ],
      "metadata": {
        "id": "Wdxjhv4wSEIX"
      },
      "execution_count": 24,
      "outputs": []
    },
    {
      "cell_type": "code",
      "source": [
        "mensagem"
      ],
      "metadata": {
        "colab": {
          "base_uri": "https://localhost:8080/",
          "height": 35
        },
        "id": "ACBGoC8OSPHV",
        "outputId": "b0cdb79c-c72a-4331-f6df-84ceb173d60c"
      },
      "execution_count": 25,
      "outputs": [
        {
          "output_type": "execute_result",
          "data": {
            "text/plain": [
              "'Bem vindo a Sirius'"
            ],
            "application/vnd.google.colaboratory.intrinsic+json": {
              "type": "string"
            }
          },
          "metadata": {},
          "execution_count": 25
        }
      ]
    },
    {
      "cell_type": "code",
      "source": [
        "print(mensagem)"
      ],
      "metadata": {
        "colab": {
          "base_uri": "https://localhost:8080/"
        },
        "id": "zUkUFKXTSQwn",
        "outputId": "754c873b-d667-435a-c624-96a46a716df9"
      },
      "execution_count": 26,
      "outputs": [
        {
          "output_type": "stream",
          "name": "stdout",
          "text": [
            "Bem vindo a Sirius\n"
          ]
        }
      ]
    },
    {
      "cell_type": "code",
      "source": [
        "valor_pi = 3.14159"
      ],
      "metadata": {
        "id": "H5Yw3JJESi_w"
      },
      "execution_count": 27,
      "outputs": []
    },
    {
      "cell_type": "code",
      "source": [
        "print(f'O valor de Pi é {valor_pi:.3f}') #primeira opção de impressao"
      ],
      "metadata": {
        "colab": {
          "base_uri": "https://localhost:8080/"
        },
        "id": "O36N2BvKSnq3",
        "outputId": "aaba7b4c-33bb-4b54-f9fc-f45fd3f0f89a"
      },
      "execution_count": 39,
      "outputs": [
        {
          "output_type": "stream",
          "name": "stdout",
          "text": [
            "O valor de Pi é 3.14\n"
          ]
        }
      ]
    },
    {
      "cell_type": "code",
      "source": [
        "print('O valor aproximado de pi é {:.4}'.format(valor_pi)) #segunda opção de impressao"
      ],
      "metadata": {
        "colab": {
          "base_uri": "https://localhost:8080/"
        },
        "id": "sY5OunYsTMRv",
        "outputId": "484746e0-d653-4d7c-ad8b-4206ef719f87"
      },
      "execution_count": 43,
      "outputs": [
        {
          "output_type": "stream",
          "name": "stdout",
          "text": [
            "O valor aproximado de pi é 3.142\n"
          ]
        }
      ]
    },
    {
      "cell_type": "code",
      "source": [
        "nome = 'Joao'\n",
        "instituicao = 'Sirius'"
      ],
      "metadata": {
        "id": "q-wdomnZTpfx"
      },
      "execution_count": 2,
      "outputs": []
    },
    {
      "cell_type": "code",
      "source": [
        "print(f'o meu nome é {nome} e trabalho na instituição {instituicao}')"
      ],
      "metadata": {
        "colab": {
          "base_uri": "https://localhost:8080/"
        },
        "id": "9XoOrScUyzK2",
        "outputId": "32602f7f-3ef2-4c46-b5c4-2ef3c336d430"
      },
      "execution_count": 3,
      "outputs": [
        {
          "output_type": "stream",
          "name": "stdout",
          "text": [
            "o meu nome é Joao e trabalho na instituição Sirius\n"
          ]
        }
      ]
    },
    {
      "cell_type": "code",
      "source": [
        "print(' o meu nome é {} e trabalho na instituição {}'.format(nome,instituicao))"
      ],
      "metadata": {
        "colab": {
          "base_uri": "https://localhost:8080/"
        },
        "id": "54my4j_-VSvB",
        "outputId": "e884731a-0910-4809-b873-85887032439e"
      },
      "execution_count": 4,
      "outputs": [
        {
          "output_type": "stream",
          "name": "stdout",
          "text": [
            " o meu nome é Joao e trabalho na instituição Sirius\n"
          ]
        }
      ]
    },
    {
      "cell_type": "code",
      "source": [
        "nome = input('digite seu nome')"
      ],
      "metadata": {
        "colab": {
          "base_uri": "https://localhost:8080/"
        },
        "id": "1DcOJiGeVhOJ",
        "outputId": "e4893057-83c2-4bc4-8b17-542c2323f874"
      },
      "execution_count": 6,
      "outputs": [
        {
          "name": "stdout",
          "output_type": "stream",
          "text": [
            "digite seu nomeJoão\n"
          ]
        }
      ]
    },
    {
      "cell_type": "code",
      "source": [
        "print(nome)"
      ],
      "metadata": {
        "colab": {
          "base_uri": "https://localhost:8080/"
        },
        "id": "LbwwED6uVt1s",
        "outputId": "9a4abee0-f124-4549-d1f9-8ffa57da5c92"
      },
      "execution_count": 7,
      "outputs": [
        {
          "output_type": "stream",
          "name": "stdout",
          "text": [
            "João\n"
          ]
        }
      ]
    },
    {
      "cell_type": "code",
      "source": [
        "numero = int(input('Digite um numero'))"
      ],
      "metadata": {
        "colab": {
          "base_uri": "https://localhost:8080/"
        },
        "id": "BjdLyppcV7QH",
        "outputId": "fd7f30f6-6890-4876-d0ec-620e1656c04f"
      },
      "execution_count": 8,
      "outputs": [
        {
          "name": "stdout",
          "output_type": "stream",
          "text": [
            "Digite um numero52\n"
          ]
        }
      ]
    },
    {
      "cell_type": "code",
      "source": [
        "\n",
        "print(numero)"
      ],
      "metadata": {
        "colab": {
          "base_uri": "https://localhost:8080/"
        },
        "id": "oIhOLN1uWBVl",
        "outputId": "a5c5fd91-7f88-4b93-e240-b5037c357f14"
      },
      "execution_count": 13,
      "outputs": [
        {
          "output_type": "stream",
          "name": "stdout",
          "text": [
            "53\n"
          ]
        }
      ]
    },
    {
      "cell_type": "markdown",
      "source": [
        "**Aula 03**"
      ],
      "metadata": {
        "id": "PczCp9ZUWVTL"
      }
    },
    {
      "cell_type": "code",
      "source": [
        "# Adição +\n",
        "#subtração -\n",
        "#Multiplicação *\n",
        "#Divisao /\n",
        "#divisao sem resto //\n",
        "#exponencial **\n",
        "#Resto % mais pra par ou impar\n",
        "numero_1 = 15\n",
        "numero_2 = 10\n",
        "soma = numero_1 + numero_2\n",
        "\n",
        "print(f'O valor dos numero1 \"{numero_1}\" e numero2 \"{numero_2}\" é igual a soma {soma}')\n",
        "\n",
        "a = int(input('digite o valor de a '))\n",
        "b = int(input('digite o valor de b '))\n",
        "\n",
        "print(f'Valor c = {a%b}')\n"
      ],
      "metadata": {
        "colab": {
          "base_uri": "https://localhost:8080/"
        },
        "id": "J-7oLE-aWYTv",
        "outputId": "bfc440fa-1c43-4291-ebf7-7457d4a76f53"
      },
      "execution_count": 31,
      "outputs": [
        {
          "output_type": "stream",
          "name": "stdout",
          "text": [
            "O valor dos numero1 \"15\" e numero2 \"10\" é igual a soma 25\n",
            "digite o valor de a 4\n",
            "digite o valor de b 3\n",
            "Valor c = 1\n"
          ]
        }
      ]
    },
    {
      "cell_type": "code",
      "source": [
        "#Operadores\n",
        "# == Igual\n",
        "# > Maior que\n",
        "# < menor que\n",
        "# >= Maior igual\n",
        "# <= menor igual\n",
        "# ! Diferente de\n",
        "\n",
        "a = 10\n",
        "b = 10\n"
      ],
      "metadata": {
        "id": "PvYacHOeoxSq"
      },
      "execution_count": 32,
      "outputs": []
    },
    {
      "cell_type": "code",
      "source": [
        "print(a > b)"
      ],
      "metadata": {
        "colab": {
          "base_uri": "https://localhost:8080/"
        },
        "id": "jfoA2gqhpFjd",
        "outputId": "40e82a53-968d-455e-b271-bd682fe65af7"
      },
      "execution_count": 35,
      "outputs": [
        {
          "output_type": "stream",
          "name": "stdout",
          "text": [
            "False\n"
          ]
        }
      ]
    },
    {
      "cell_type": "markdown",
      "source": [
        "**Aula 04**"
      ],
      "metadata": {
        "id": "G2BIVJ8-pgb9"
      }
    },
    {
      "cell_type": "code",
      "source": [
        "# Operadores Logicos\n",
        "# not\n",
        "# and\n",
        "# or\n",
        "\n",
        "x=1\n",
        "print(x == 1 and x==1)\n"
      ],
      "metadata": {
        "colab": {
          "base_uri": "https://localhost:8080/"
        },
        "id": "JF6fGwwvpiZI",
        "outputId": "595ae5b9-21c3-43c9-a3c8-53ccfcf7f79d"
      },
      "execution_count": 41,
      "outputs": [
        {
          "output_type": "stream",
          "name": "stdout",
          "text": [
            "True\n"
          ]
        }
      ]
    },
    {
      "cell_type": "markdown",
      "source": [
        "**Aula 05**"
      ],
      "metadata": {
        "id": "RXMxPoTWsH8_"
      }
    },
    {
      "cell_type": "code",
      "source": [
        "# IF # ELSE\n",
        "res = 10 + 4\n",
        "if res > 15:\n",
        "  print(f'Valor:{res}')\n",
        "else :\n",
        "  print('Valor menor que 15')"
      ],
      "metadata": {
        "colab": {
          "base_uri": "https://localhost:8080/"
        },
        "id": "CYBzqHFXsLHj",
        "outputId": "91b7b667-1560-4de8-cce2-32ed654aaf7e"
      },
      "execution_count": 45,
      "outputs": [
        {
          "output_type": "stream",
          "name": "stdout",
          "text": [
            "Valor menor que 15\n"
          ]
        }
      ]
    }
  ]
}